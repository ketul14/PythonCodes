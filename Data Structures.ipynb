{
 "cells": [
  {
   "cell_type": "code",
   "execution_count": 1,
   "metadata": {},
   "outputs": [],
   "source": [
    "# heaps"
   ]
  },
  {
   "cell_type": "code",
   "execution_count": 22,
   "metadata": {},
   "outputs": [],
   "source": [
    "# constructor\n",
    "\n",
    "class Heaps:\n",
    "    def __init__(self, capacity):\n",
    "        self.storage = [0] * capacity\n",
    "        self.capacity = capacity\n",
    "        self.size = 0\n",
    "        \n",
    "    # helper method\n",
    "    # 1. parent index\n",
    "    def getParentIndex(self, index):\n",
    "        return (index - 1) // 2\n",
    "    \n",
    "    # 2. left child index\n",
    "    def getLeftChildIndex(self, index):\n",
    "        return (index * 2 ) + 1\n",
    "    \n",
    "    # 3. right child index\n",
    "    def getRightChildIndex(self, index):\n",
    "        return (index * 2) + 2\n",
    "    \n",
    "    # 4. hasParent\n",
    "    def hasParent(self, index):\n",
    "        return self.getParentIndex(index) >= 0\n",
    "    \n",
    "    # 5. hasLeft Child\n",
    "    def hasLeftChild(self, index):\n",
    "        return getLeftChildIndex(index) <= self.size\n",
    "    \n",
    "    # 6. hasRight Child\n",
    "    def hasRightChild(self, index):\n",
    "        return getRightChildIndex(index) <= self.size\n",
    "    \n",
    "    # get data\n",
    "    # 7. get parent data\n",
    "    def getParent(self, index):\n",
    "        return self.storage[self.getParentIndex(index)]\n",
    "    \n",
    "    # 8. get Left child data\n",
    "    def getLeftChild(self, index):\n",
    "        return self.storage[self.getLeftChildIndex(index)]\n",
    "    \n",
    "    # 9. get right child data\n",
    "    def getRightChild(self, index):\n",
    "        return self.storage[self.getRightChildIndex(index)]\n",
    "    \n",
    "    # 10. isFull Array?\n",
    "    def isFull(self):\n",
    "        return self.size == self.capacity\n",
    "    \n",
    "    # 11. swap \n",
    "    def swap(self, index1, index2):\n",
    "        temp = self.storage[index1]\n",
    "        self.storage[index1] = self.storage[index2]\n",
    "        self.storage[index2] = temp\n",
    "        \n",
    "        \n",
    "    # Inserting the data in heap\n",
    "    def insert(self, data):\n",
    "        if self.isFull():\n",
    "            print(\"Heap is full\")\n",
    "        self.storage[self.size] = data\n",
    "        self.size += 1\n",
    "        self.heapifyUp()\n",
    "        \n",
    "        \n",
    "    def heapifyUp(self):\n",
    "        index = self.size - 1\n",
    "        while(self.hasParent(index) and self.getParent(index) > self.storage[index]):\n",
    "            self.swap(index, self.getParentIndex(index))\n",
    "            index = self.getParentIndex(index)"
   ]
  },
  {
   "cell_type": "code",
   "execution_count": 23,
   "metadata": {},
   "outputs": [],
   "source": [
    "heaps = Heaps(7)"
   ]
  },
  {
   "cell_type": "code",
   "execution_count": 24,
   "metadata": {},
   "outputs": [
    {
     "name": "stdout",
     "output_type": "stream",
     "text": [
      "[1, 0, 0, 0, 0, 0, 0]\n"
     ]
    }
   ],
   "source": [
    "heaps.insert(1)\n",
    "print(heaps.storage)"
   ]
  },
  {
   "cell_type": "code",
   "execution_count": 25,
   "metadata": {},
   "outputs": [
    {
     "name": "stdout",
     "output_type": "stream",
     "text": [
      "[1, 10, 0, 0, 0, 0, 0]\n"
     ]
    }
   ],
   "source": [
    "heaps.insert(10)\n",
    "print(heaps.storage)"
   ]
  },
  {
   "cell_type": "code",
   "execution_count": 26,
   "metadata": {},
   "outputs": [
    {
     "name": "stdout",
     "output_type": "stream",
     "text": [
      "[1, 10, 5, 0, 0, 0, 0]\n"
     ]
    }
   ],
   "source": [
    "heaps.insert(5)\n",
    "print(heaps.storage)"
   ]
  },
  {
   "cell_type": "code",
   "execution_count": 27,
   "metadata": {},
   "outputs": [
    {
     "name": "stdout",
     "output_type": "stream",
     "text": [
      "[1, 3, 5, 10, 0, 0, 0]\n"
     ]
    }
   ],
   "source": [
    "heaps.insert(3)\n",
    "print(heaps.storage)"
   ]
  },
  {
   "cell_type": "code",
   "execution_count": null,
   "metadata": {},
   "outputs": [],
   "source": [
    "### recursive implmenetation\n",
    "    # Inserting the data in heap\n",
    "    def insert(self, data):\n",
    "        if self.isFull():\n",
    "            print(\"Heap is full\")\n",
    "        self.storage[self.size] = data\n",
    "        self.size += 1\n",
    "        self.heapifyUp(self.size - 1)\n",
    "        \n",
    "        \n",
    "    def heapifyUp(self, index):\n",
    "        if(self.hasParent(index) and self.getParent(index) > self.storage[index]):\n",
    "            self.swap(index, self.getParentIndex(index))\n",
    "            index = self.getParentIndex(index)\n",
    "            self.heapifyUp(self.getParentIndex(index))"
   ]
  }
 ],
 "metadata": {
  "kernelspec": {
   "display_name": "Python 3",
   "language": "python",
   "name": "python3"
  },
  "language_info": {
   "codemirror_mode": {
    "name": "ipython",
    "version": 3
   },
   "file_extension": ".py",
   "mimetype": "text/x-python",
   "name": "python",
   "nbconvert_exporter": "python",
   "pygments_lexer": "ipython3",
   "version": "3.7.4"
  }
 },
 "nbformat": 4,
 "nbformat_minor": 4
}
